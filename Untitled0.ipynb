{
  "nbformat": 4,
  "nbformat_minor": 0,
  "metadata": {
    "colab": {
      "provenance": [],
      "gpuType": "T4",
      "authorship_tag": "ABX9TyMe/qhEGTmKSSRuVimR9jy2",
      "include_colab_link": true
    },
    "kernelspec": {
      "name": "python3",
      "display_name": "Python 3"
    },
    "language_info": {
      "name": "python"
    },
    "accelerator": "GPU"
  },
  "cells": [
    {
      "cell_type": "markdown",
      "metadata": {
        "id": "view-in-github",
        "colab_type": "text"
      },
      "source": [
        "<a href=\"https://colab.research.google.com/github/boristef/LULU/blob/dev/Untitled0.ipynb\" target=\"_parent\"><img src=\"https://colab.research.google.com/assets/colab-badge.svg\" alt=\"Open In Colab\"/></a>"
      ]
    },
    {
      "cell_type": "code",
      "execution_count": 2,
      "metadata": {
        "colab": {
          "base_uri": "https://localhost:8080/",
          "height": 248
        },
        "id": "C38o0eSrNMza",
        "outputId": "f5f557f7-48dc-476c-f288-e3228700935b"
      },
      "outputs": [
        {
          "output_type": "error",
          "ename": "FileNotFoundError",
          "evalue": "ignored",
          "traceback": [
            "\u001b[0;31m---------------------------------------------------------------------------\u001b[0m",
            "\u001b[0;31mFileNotFoundError\u001b[0m                         Traceback (most recent call last)",
            "\u001b[0;32m<ipython-input-2-9b53bd2d18fb>\u001b[0m in \u001b[0;36m<cell line: 30>\u001b[0;34m()\u001b[0m\n\u001b[1;32m     28\u001b[0m \u001b[0;34m\u001b[0m\u001b[0m\n\u001b[1;32m     29\u001b[0m \u001b[0;31m# loading\u001b[0m\u001b[0;34m\u001b[0m\u001b[0;34m\u001b[0m\u001b[0m\n\u001b[0;32m---> 30\u001b[0;31m \u001b[0;32mwith\u001b[0m \u001b[0mopen\u001b[0m\u001b[0;34m(\u001b[0m\u001b[0;34m\"tokenizer.pickle\"\u001b[0m\u001b[0;34m,\u001b[0m \u001b[0;34m\"rb\"\u001b[0m\u001b[0;34m)\u001b[0m \u001b[0;32mas\u001b[0m \u001b[0mhandle\u001b[0m\u001b[0;34m:\u001b[0m\u001b[0;34m\u001b[0m\u001b[0;34m\u001b[0m\u001b[0m\n\u001b[0m\u001b[1;32m     31\u001b[0m     \u001b[0mtokenizer\u001b[0m \u001b[0;34m=\u001b[0m \u001b[0mpickle\u001b[0m\u001b[0;34m.\u001b[0m\u001b[0mload\u001b[0m\u001b[0;34m(\u001b[0m\u001b[0mhandle\u001b[0m\u001b[0;34m)\u001b[0m\u001b[0;34m\u001b[0m\u001b[0;34m\u001b[0m\u001b[0m\n\u001b[1;32m     32\u001b[0m \u001b[0;31m# 載入事先訓練好的模型\u001b[0m\u001b[0;34m\u001b[0m\u001b[0;34m\u001b[0m\u001b[0m\n",
            "\u001b[0;31mFileNotFoundError\u001b[0m: [Errno 2] No such file or directory: 'tokenizer.pickle'"
          ]
        }
      ],
      "source": [
        "import jieba\n",
        "import pickle\n",
        "\n",
        "\n",
        "def chinese_text_segmentation(text):\n",
        "    seg_list = jieba.cut(text)\n",
        "    return \" \".join(seg_list)\n",
        "\n",
        "\n",
        "def convert_to_chinese(number):\n",
        "    chinese_numerals = {\n",
        "        \"0\": \"零\",\n",
        "        \"1\": \"一\",\n",
        "        \"2\": \"二\",\n",
        "        \"3\": \"三\",\n",
        "        \"4\": \"四\",\n",
        "        \"5\": \"五\",\n",
        "        \"6\": \"六\",\n",
        "        \"7\": \"七\",\n",
        "        \"8\": \"八\",\n",
        "        \"9\": \"九\",\n",
        "    }\n",
        "    chinese_number = \"\".join([chinese_numerals[digit] for digit in str(number)])\n",
        "    return chinese_number\n",
        "\n",
        "\n",
        "from keras.models import load_model\n",
        "\n",
        "# loading\n",
        "with open(\"tokenizer.pickle\", \"rb\") as handle:\n",
        "    tokenizer = pickle.load(handle)\n",
        "# 載入事先訓練好的模型\n",
        "model = load_model(\"NNmodel_20231213.keras\")  # 請替換成實際的模型路徑\n",
        "while 1:\n",
        "    user_input = input(\"請輸入要進行分類的文本：\")\n",
        "    print(user_input)\n",
        "    user_input = \"\".join(\n",
        "        [convert_to_chinese(ch) if ch.isdigit() else ch for ch in str(user_input)]\n",
        "    )\n",
        "    print(user_input)\n",
        "    from keras.preprocessing.sequence import pad_sequences\n",
        "\n",
        "    # 設定參數\n",
        "    max_len = 10\n",
        "\n",
        "    tokenizer.fit_on_texts([user_input])\n",
        "\n",
        "    # 使用jieba進行斷詞\n",
        "    user_input_segmented = chinese_text_segmentation(user_input)\n",
        "\n",
        "    # 使用Tokenizer轉換成序列\n",
        "    user_input_seq = tokenizer.texts_to_sequences([user_input_segmented])\n",
        "\n",
        "    # 使用pad_sequences進行填充\n",
        "    user_input_pad = pad_sequences(user_input_seq, maxlen=max_len)\n",
        "    # 預測結果\n",
        "    predictions = model.predict(user_input_pad)\n",
        "\n",
        "    # 獲取最大概率的類別\n",
        "    predicted_class = predictions.argmax(axis=-1)[0]\n",
        "\n",
        "    # 打印預測結果\n",
        "    print(f\"Predicted Class: {predicted_class}\")\n",
        "    print(f\"Predictions: {predictions}\")\n"
      ]
    }
  ]
}