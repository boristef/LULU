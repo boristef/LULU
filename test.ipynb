{
 "cells": [
  {
   "cell_type": "code",
   "execution_count": 3,
   "metadata": {},
   "outputs": [
    {
     "name": "stdout",
     "output_type": "stream",
     "text": [
      "貨號\n",
      "貨號\n",
      "1/1 [==============================] - 1s 1s/step\n"
     ]
    },
    {
     "name": "stderr",
     "output_type": "stream",
     "text": [
      "2023-12-27 16:51:10.303889: I tensorflow/compiler/xla/stream_executor/cuda/cuda_dnn.cc:442] Loaded cuDNN version 8600\n"
     ]
    },
    {
     "name": "stdout",
     "output_type": "stream",
     "text": [
      "Predicted Class: 5\n",
      "Predictions: [[0.22613534 0.15808173 0.2079403  0.05057883 0.01688994 0.34037393]\n",
      " [0.28241876 0.13657251 0.190243   0.04092048 0.01399839 0.33584684]]\n",
      "我想要查1234567890\n",
      "我想要查一二三四五六七八九零\n",
      "1/1 [==============================] - 0s 21ms/step\n",
      "Predicted Class: 0\n",
      "Predictions: [[0.36879843 0.19949195 0.1275208  0.05774506 0.02106899 0.22537482]\n",
      " [0.41795245 0.11971032 0.22437178 0.04046426 0.02166177 0.17583945]\n",
      " [0.24543963 0.3538541  0.10870592 0.04315658 0.0170656  0.23177817]\n",
      " [0.5038896  0.10452615 0.20683989 0.03710369 0.0196174  0.12802327]\n",
      " [0.41795245 0.11971032 0.22437178 0.04046426 0.02166177 0.17583945]\n",
      " [0.27790558 0.14729764 0.19170664 0.04404192 0.01576861 0.32327962]\n",
      " [0.44493353 0.16432224 0.17651618 0.03638136 0.02174662 0.15610002]\n",
      " [0.28241876 0.13657251 0.190243   0.04092048 0.01399839 0.33584684]\n",
      " [0.36974362 0.16261385 0.17828003 0.03297653 0.02049836 0.23588757]\n",
      " [0.28241876 0.13657251 0.190243   0.04092048 0.01399839 0.33584684]\n",
      " [0.28241876 0.13657251 0.190243   0.04092048 0.01399839 0.33584684]\n",
      " [0.25908473 0.21148112 0.15600303 0.03847644 0.01978097 0.31517363]\n",
      " [0.28241876 0.13657251 0.190243   0.04092048 0.01399839 0.33584684]\n",
      " [0.2490071  0.1673599  0.17535849 0.04191823 0.01592762 0.35042867]\n",
      " [0.28241876 0.13657251 0.190243   0.04092048 0.01399839 0.33584684]\n",
      " [0.277616   0.13878949 0.1879942  0.04038217 0.0137276  0.34149057]]\n"
     ]
    }
   ],
   "source": [
    "import jieba\n",
    "import pickle\n",
    "\n",
    "\n",
    "def chinese_text_segmentation(text):\n",
    "    seg_list = jieba.cut(text)\n",
    "    return \" \".join(seg_list)\n",
    "\n",
    "\n",
    "def convert_to_chinese(number):\n",
    "    chinese_numerals = {\n",
    "        \"0\": \"零\",\n",
    "        \"1\": \"一\",\n",
    "        \"2\": \"二\",\n",
    "        \"3\": \"三\",\n",
    "        \"4\": \"四\",\n",
    "        \"5\": \"五\",\n",
    "        \"6\": \"六\",\n",
    "        \"7\": \"七\",\n",
    "        \"8\": \"八\",\n",
    "        \"9\": \"九\",\n",
    "    }\n",
    "    chinese_number = \"\".join([chinese_numerals[digit] for digit in str(number)])\n",
    "    return chinese_number\n",
    "\n",
    "def tokenizer(text, word_index):\n",
    "    data = []\n",
    "    for sentence in text:\n",
    "        new_text = []\n",
    "        for word in sentence:\n",
    "            if word in word_index:\n",
    "                try:\n",
    "                    new_text.append(word_index[word])\n",
    "                except:\n",
    "                    new_text.append(0)\n",
    "        data.append(new_text)\n",
    "    data_lengths = [len(sentence) for sentence in data]\n",
    "    max_length = max(data_lengths)\n",
    "    \n",
    "    texts = pad_sequences(data, maxlen=7)\n",
    "    return texts\n",
    "\n",
    "from keras.models import load_model\n",
    "\n",
    "# # loading\n",
    "# with open(\"tokenizer.pickle\", \"rb\") as handle:\n",
    "#     tokenizer = pickle.load(handle)\n",
    "# 載入事先訓練好的模型\n",
    "model = load_model(\"BiLSTMmodel_20231227.keras\")  # 請替換成實際的模型路徑\n",
    "while 1:\n",
    "    user_input = input(\"請輸入要進行分類的文本：\")\n",
    "    print(user_input)\n",
    "    user_input = \"\".join(\n",
    "        [convert_to_chinese(ch) if ch.isdigit() else ch for ch in str(user_input)]\n",
    "    )\n",
    "    print(user_input)\n",
    "    from keras.preprocessing.sequence import pad_sequences\n",
    "\n",
    "    # 設定參數\n",
    "    max_len = 7\n",
    "    with open('word_index.pkl', 'rb') as f:\n",
    "        word_index = pickle.load(f)\n",
    "    # 使用jieba進行斷詞\n",
    "    user_input_segmented = chinese_text_segmentation(user_input)\n",
    "    \n",
    "    user_input_seq = tokenizer(user_input_segmented, word_index)    \n",
    "\n",
    "    # 使用pad_sequences進行填充\n",
    "    user_input_pad = pad_sequences(user_input_seq, maxlen=max_len)\n",
    "    # 預測結果\n",
    "    predictions = model.predict(user_input_pad)\n",
    "\n",
    "    # 獲取最大概率的類別\n",
    "    predicted_class = predictions.argmax(axis=-1)[0]\n",
    "\n",
    "    # 打印預測結果\n",
    "    print(f\"Predicted Class: {predicted_class}\")\n",
    "    print(f\"Predictions: {predictions}\")\n"
   ]
  }
 ],
 "metadata": {
  "kernelspec": {
   "display_name": "keras",
   "language": "python",
   "name": "python3"
  },
  "language_info": {
   "codemirror_mode": {
    "name": "ipython",
    "version": 3
   },
   "file_extension": ".py",
   "mimetype": "text/x-python",
   "name": "python",
   "nbconvert_exporter": "python",
   "pygments_lexer": "ipython3",
   "version": "3.9.13"
  }
 },
 "nbformat": 4,
 "nbformat_minor": 2
}
